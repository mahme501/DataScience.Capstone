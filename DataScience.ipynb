{
 "cells": [
  {
   "cell_type": "markdown",
   "id": "72b8574f",
   "metadata": {},
   "source": [
    "Data Science Tools and Ecosystems"
   ]
  },
  {
   "cell_type": "markdown",
   "id": "c6d39c41",
   "metadata": {},
   "source": [
    "In this notebook, Data Science Tools and Ecosystem are summarized."
   ]
  },
  {
   "cell_type": "markdown",
   "id": "2e77da99",
   "metadata": {},
   "source": [
    "Some of the popular languages that Data Scientists use are:\n",
    "1. Python\n",
    "2. R\n",
    "3. SQL"
   ]
  },
  {
   "cell_type": "markdown",
   "id": "011c8c13",
   "metadata": {},
   "source": [
    "Some of the commonly used libraries used by Data Scientists include:\n",
    "1. Matplotlib\n",
    "2. Scikit-Learn\n",
    "3. Keras"
   ]
  },
  {
   "cell_type": "markdown",
   "id": "30874ae2",
   "metadata": {},
   "source": [
    "| Data Science Tools |\n",
    "| -------------------|\n",
    "| Jupyter Notebook |\n",
    "| Visual Studio Code |\n",
    "| RStudio |"
   ]
  },
  {
   "cell_type": "markdown",
   "id": "cd469d11",
   "metadata": {},
   "source": [
    "### Below are a few examples of evaluating arithmetic expressions in Python."
   ]
  },
  {
   "cell_type": "code",
   "execution_count": 4,
   "id": "88630e89",
   "metadata": {},
   "outputs": [
    {
     "name": "stdout",
     "output_type": "stream",
     "text": [
      "17\n"
     ]
    }
   ],
   "source": [
    "#This is a simple arithmetic expression to multiply then add integers.\n",
    "x= (3*4) + 5\n",
    "print (x)"
   ]
  },
  {
   "cell_type": "code",
   "execution_count": 5,
   "id": "69f7d04c",
   "metadata": {},
   "outputs": [
    {
     "name": "stdout",
     "output_type": "stream",
     "text": [
      "3.3333333333333335\n"
     ]
    }
   ],
   "source": [
    "#This will convert 200 minutes to hours by divinding by 60.\n",
    "hrs = 200/60\n",
    "print(hrs)"
   ]
  },
  {
   "cell_type": "markdown",
   "id": "ec5a8d4c",
   "metadata": {},
   "source": [
    "**Objectives**\n",
    "- list popular languages for Data Science\n",
    "- list popular dev tools for Data Science\n",
    "- list popular libraries for Data Science"
   ]
  },
  {
   "cell_type": "markdown",
   "id": "2cd91119",
   "metadata": {},
   "source": [
    "## Author\n",
    "Mariam"
   ]
  }
 ],
 "metadata": {
  "kernelspec": {
   "display_name": "Python 3",
   "language": "python",
   "name": "python3"
  },
  "language_info": {
   "codemirror_mode": {
    "name": "ipython",
    "version": 3
   },
   "file_extension": ".py",
   "mimetype": "text/x-python",
   "name": "python",
   "nbconvert_exporter": "python",
   "pygments_lexer": "ipython3",
   "version": "3.11.9"
  }
 },
 "nbformat": 4,
 "nbformat_minor": 5
}
